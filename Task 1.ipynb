{
 "cells": [
  {
   "cell_type": "code",
   "execution_count": 17,
   "id": "94fa3df2",
   "metadata": {},
   "outputs": [],
   "source": [
    "modern_family = ['CLaiRe_DunPhY', 'PHiL_dUnpHY', 'GLoRiA_PriTCheTt', 'CaMErOn_TuCKEr',\n",
    "'StELLa']\n",
    "indices=list()\n",
    "characters=list()"
   ]
  },
  {
   "cell_type": "code",
   "execution_count": 18,
   "id": "0369f5a4",
   "metadata": {},
   "outputs": [
    {
     "name": "stdout",
     "output_type": "stream",
     "text": [
      "[0, 1, 2, 3, 4]\n",
      "['claire-dunphy', 'phil-dunphy', 'gloria-pritchett', 'cameron-tucker', 'stella']\n"
     ]
    }
   ],
   "source": [
    "for i,name in enumerate(modern_family):\n",
    "    indices.append(i)\n",
    "    characters.append(name.lower().replace('_','-'))\n",
    "   \n",
    "print(indices)\n",
    "print(characters)    "
   ]
  },
  {
   "cell_type": "code",
   "execution_count": 23,
   "id": "9b202dbe",
   "metadata": {},
   "outputs": [
    {
     "name": "stdout",
     "output_type": "stream",
     "text": [
      "5\n",
      "1\n",
      "[13, 11, 16, 14, 6]\n"
     ]
    }
   ],
   "source": [
    "n=lambda a:len(a)\n",
    "print(n(input()))\n",
    "temp=list(map(n,characters))\n",
    "print(temp)"
   ]
  },
  {
   "cell_type": "code",
   "execution_count": 29,
   "id": "583633f4",
   "metadata": {},
   "outputs": [],
   "source": [
    "indices=list(map(sum,(zip(indices,temp))))\n",
    "indices.sort(reverse=True)"
   ]
  },
  {
   "cell_type": "code",
   "execution_count": 34,
   "id": "5e1436b4",
   "metadata": {},
   "outputs": [
    {
     "name": "stdout",
     "output_type": "stream",
     "text": [
      "{18: 'claire-dunphy', 17: 'phil-dunphy', 13: 'gloria-pritchett', 12: 'cameron-tucker', 10: 'stella'}\n"
     ]
    }
   ],
   "source": [
    "Phew_finally=dict(zip(indices,characters))\n",
    "print(Phew_finally)"
   ]
  },
  {
   "cell_type": "code",
   "execution_count": null,
   "id": "6e23d3be",
   "metadata": {},
   "outputs": [],
   "source": []
  },
  {
   "cell_type": "code",
   "execution_count": null,
   "id": "3e728531",
   "metadata": {},
   "outputs": [],
   "source": []
  },
  {
   "cell_type": "code",
   "execution_count": 40,
   "id": "18bebce3",
   "metadata": {},
   "outputs": [
    {
     "name": "stdout",
     "output_type": "stream",
     "text": [
      "[['green_light', 'green_light', 'green_light', 'green_light', 'green_light', 'green_light']]\n"
     ]
    }
   ],
   "source": [
    "creepy_doll = ['red_light', 'green_light', 'red_light', 'you_got_shot', 'green_light', 'you_got_shot',\n",
    "'you_got_shot', 'green_light', 'you_ got_shot', 'red_light', 'green_light', 'red_light', 'you_got_shot',\n",
    "'green_light','red_light', 'red_light', 'green_light', 'you_got_shot','red_light', 'you_got_shot']\n",
    "\n",
    "next_game=[]\n",
    "next_game.append(creepy_doll[1:len(creepy_doll)-1:3])\n",
    "print(next_game)"
   ]
  },
  {
   "cell_type": "code",
   "execution_count": null,
   "id": "7959d5f7",
   "metadata": {},
   "outputs": [],
   "source": []
  }
 ],
 "metadata": {
  "kernelspec": {
   "display_name": "Python 3 (ipykernel)",
   "language": "python",
   "name": "python3"
  },
  "language_info": {
   "codemirror_mode": {
    "name": "ipython",
    "version": 3
   },
   "file_extension": ".py",
   "mimetype": "text/x-python",
   "name": "python",
   "nbconvert_exporter": "python",
   "pygments_lexer": "ipython3",
   "version": "3.9.12"
  }
 },
 "nbformat": 4,
 "nbformat_minor": 5
}
